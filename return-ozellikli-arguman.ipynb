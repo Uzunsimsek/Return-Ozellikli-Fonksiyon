{
 "cells": [
  {
   "cell_type": "code",
   "execution_count": null,
   "metadata": {},
   "outputs": [],
   "source": [
    "def roı_hesapla():\n",
    "    gelir=[5000,21000,25000,20000,15000]\n",
    "    harcama=[1000,3000,2500,4000,1500,2000,15000]\n",
    "    gelir.append(14000)\n",
    "    print(\"dijital pazarlama gelirleri =\".upper()  , gelir)\n",
    "    harcama.pop()\n",
    "    print(\"dijital pazarlama harcamaları =\".capitalize(), harcama)\n",
    "    roı=[]\n",
    "    for i in range(0,len(gelir)):\n",
    "        roı.append(gelir[i]/harcama[i])\n",
    "    return(\"Reklam yatırımlarımızın geri dönüşümü: \" ,(roı))    \n",
    "\n",
    "roı_hesapla()"
   ]
  },
  {
   "cell_type": "code",
   "execution_count": null,
   "metadata": {},
   "outputs": [],
   "source": []
  }
 ],
 "metadata": {
  "kernelspec": {
   "display_name": "Python 3",
   "language": "python",
   "name": "python3"
  },
  "language_info": {
   "name": ""
  }
 },
 "nbformat": 4,
 "nbformat_minor": 4
}
